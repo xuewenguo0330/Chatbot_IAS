{
 "cells": [
  {
   "cell_type": "code",
   "execution_count": 1,
   "metadata": {},
   "outputs": [],
   "source": [
    "import os, re\n",
    "import numpy as np\n",
    "import matplotlib.pyplot as plt\n",
    "import pandas as pd\n",
    "from mpl_toolkits import mplot3d"
   ]
  },
  {
   "cell_type": "code",
   "execution_count": 2,
   "metadata": {},
   "outputs": [],
   "source": [
    "def sep_ponct(my_str, rule = r\"([.,?!])\"):\n",
    "    \"\"\"separer les mots avec les char de ponctuation\"\"\"\n",
    "    #print(my_str)\n",
    "    sp0 = re.split(rule, my_str)\n",
    "    sp1 = [data.strip() for data in sp0]\n",
    "    res = [data for data in sp1 if (data != '') ]\n",
    "    return res"
   ]
  },
  {
   "cell_type": "code",
   "execution_count": 3,
   "metadata": {},
   "outputs": [],
   "source": [
    "data=pd.read_csv('data.tsv',sep='\\t')\n",
    "dataQ=data.Question\n",
    "dataA=data.Answer\n",
    "Q=[]\n",
    "A=[]\n",
    "Q2W=[]# liste de mots pour chaque phrase \n",
    "A2W=[]\n",
    "for i in range(len(dataQ)):\n",
    "    Q.append(dataQ[i].lower())\n",
    "for each in Q: \n",
    "    each_list = sep_ponct(each)\n",
    "    remisEsp = ' '.join(each_list)\n",
    "    Q2W.append(remisEsp.split(\" \"))\n",
    "for i in range(len(dataA)):\n",
    "    A.append(dataA[i].lower())\n",
    "for each in A:\n",
    "    each_list = sep_ponct(each)\n",
    "    remisEsp = ' '.join(each_list)\n",
    "    A2W.append(remisEsp.split(\" \"))"
   ]
  },
  {
   "cell_type": "code",
   "execution_count": 4,
   "metadata": {},
   "outputs": [],
   "source": [
    "#data.describe()"
   ]
  },
  {
   "cell_type": "code",
   "execution_count": 5,
   "metadata": {},
   "outputs": [],
   "source": [
    "import gensim, logging"
   ]
  },
  {
   "cell_type": "code",
   "execution_count": 6,
   "metadata": {},
   "outputs": [],
   "source": [
    "window_size=2\n",
    "N=len(Q2W)\n",
    "vector_size=3\n",
    "tout=Q2W+A2W\n",
    "model=gensim.models.Word2Vec(tout,vector_size=vector_size, window=2, min_count=1, workers=4)"
   ]
  },
  {
   "cell_type": "code",
   "execution_count": 7,
   "metadata": {},
   "outputs": [],
   "source": [
    "def UpdateMatrice():\n",
    "    V=[]\n",
    "    for i in range (N):\n",
    "        s=np.zeros(vector_size)\n",
    "    for j in range(len(Q2W[i])):\n",
    "        motInconnu(Q2W[i][j])\n",
    "        wv=np.array(model.wv.get_vector(Q2W[i][j]))\n",
    "        s+=wv\n",
    "    V.append(list(s))\n",
    "    return V"
   ]
  },
  {
   "cell_type": "code",
   "execution_count": 8,
   "metadata": {},
   "outputs": [],
   "source": [
    "from spellchecker import SpellChecker"
   ]
  },
  {
   "cell_type": "code",
   "execution_count": 9,
   "metadata": {},
   "outputs": [
    {
     "name": "stdout",
     "output_type": "stream",
     "text": [
      "kdwog\n",
      "dog\n",
      "wlak\n",
      "walk\n",
      "namme\n",
      "name\n"
     ]
    }
   ],
   "source": [
    "spell = SpellChecker()\n",
    "\n",
    "misspelled = spell.unknown(['let','kdwog', 'us', 'wlak','namme','the','groun'])\n",
    "\n",
    "for word in misspelled:\n",
    "    print(word)\n",
    "\n",
    "    print(spell.correction(word))"
   ]
  },
  {
   "cell_type": "code",
   "execution_count": null,
   "metadata": {
    "scrolled": true
   },
   "outputs": [
    {
     "name": "stdout",
     "output_type": "stream",
     "text": [
      "We can't understand this word  namee . Do you want to say this word  ' name '\n",
      "If yes, please enter Y else enter the correct word ! \n"
     ]
    }
   ],
   "source": [
    "def motInconnu(mot):\n",
    "    try:\n",
    "        model.wv.get_vector(mot.lower())   \n",
    "    except:\n",
    "        spell = SpellChecker()\n",
    "        mot=str(mot)\n",
    "        #model.build_vocab([[str(mot)]], update=True)\n",
    "        #UpdateMatrice\n",
    "        print(\"We can't understand this word \",mot,\". Do you want to say this word \",'\\'',spell.correction(mot),'\\'')\n",
    "        print(\"If yes, please enter Y else enter the correct word ! \")\n",
    "        x = str(input())\n",
    "        if(x!=\"Y\"):\n",
    "            return x \n",
    "        else:\n",
    "            return spell.correction(mot)\n",
    "        \n",
    "        \n",
    "motInconnu(\"namee\")"
   ]
  },
  {
   "cell_type": "code",
   "execution_count": null,
   "metadata": {},
   "outputs": [],
   "source": [
    "from mpl_toolkits import mplot3d\n",
    "import numpy as np\n",
    "import matplotlib.pyplot as plt\n",
    "V=[]\n",
    "for i in range (N):\n",
    "    s=np.zeros(vector_size)\n",
    "    for j in range(len(Q2W[i])):\n",
    "        motInconnu(Q2W[i][j])\n",
    "        wv=np.array(model.wv.get_vector(Q2W[i][j]))\n",
    "        s+=wv\n",
    "    V.append(list(s))\n",
    "fig = plt.figure(figsize = (10, 7))\n",
    "ax = plt.axes(projection =\"3d\")\n",
    "for i in range(10):\n",
    "    ax.scatter3D(V[i][0],V[i][1],V[i][2],label=Q2W[i])\n",
    "    #ax.scatter3D(V[i][0],V[i][1],V[i][2])\n",
    "plt.legend()"
   ]
  },
  {
   "cell_type": "code",
   "execution_count": null,
   "metadata": {},
   "outputs": [],
   "source": [
    "from scipy.spatial import distance\n",
    "def nearestVector(vector,groupe):\n",
    "    minimum=distance.cosine(groupe[0],vector)\n",
    "    index=0\n",
    "    for i in range(len(groupe)):\n",
    "        print(distance.cosine(groupe[i],vector))\n",
    "        if (distance.cosine(groupe[i],vector)<minimum):\n",
    "            minumum=distance.cosine(each,vector)\n",
    "            index=i\n",
    "    return index\n",
    "              "
   ]
  },
  {
   "cell_type": "code",
   "execution_count": null,
   "metadata": {
    "scrolled": true
   },
   "outputs": [],
   "source": [
    "groupe=[[1,2,3],[2,3,4],[5,5,5]]\n",
    "nearestVector([1,3,3],groupe)"
   ]
  },
  {
   "cell_type": "code",
   "execution_count": null,
   "metadata": {},
   "outputs": [],
   "source": [
    "V[0][0]"
   ]
  },
  {
   "cell_type": "code",
   "execution_count": null,
   "metadata": {},
   "outputs": [],
   "source": [
    "V[0][0]"
   ]
  },
  {
   "cell_type": "code",
   "execution_count": null,
   "metadata": {},
   "outputs": [],
   "source": []
  }
 ],
 "metadata": {
  "kernelspec": {
   "display_name": "Python 3",
   "language": "python",
   "name": "python3"
  },
  "language_info": {
   "codemirror_mode": {
    "name": "ipython",
    "version": 3
   },
   "file_extension": ".py",
   "mimetype": "text/x-python",
   "name": "python",
   "nbconvert_exporter": "python",
   "pygments_lexer": "ipython3",
   "version": "3.6.9"
  }
 },
 "nbformat": 4,
 "nbformat_minor": 2
}

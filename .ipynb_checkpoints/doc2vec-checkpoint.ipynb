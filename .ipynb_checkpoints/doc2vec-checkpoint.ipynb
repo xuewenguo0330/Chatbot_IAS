{
 "cells": [
  {
   "cell_type": "code",
   "execution_count": 1,
   "metadata": {},
   "outputs": [],
   "source": [
    "import pandas as pd"
   ]
  },
  {
   "cell_type": "code",
   "execution_count": 2,
   "metadata": {},
   "outputs": [],
   "source": [
    "import numpy as np"
   ]
  },
  {
   "cell_type": "code",
   "execution_count": 3,
   "metadata": {
    "scrolled": true
   },
   "outputs": [],
   "source": [
    "from gensim.models.doc2vec import Doc2Vec, TaggedDocument"
   ]
  },
  {
   "cell_type": "code",
   "execution_count": 4,
   "metadata": {},
   "outputs": [
    {
     "name": "stdout",
     "output_type": "stream",
     "text": [
      "0                     100 percent\n",
      "1                        1 dollar\n",
      "2        A blessed morning to you\n",
      "3              Absolutely correct\n",
      "4                      Absolutely\n",
      "                   ...           \n",
      "10479            Yup, that's true\n",
      "10480         yyou are uncultured\n",
      "10481                    Zip it! \n",
      "10482                 Zip it, you\n",
      "10483                       Zzzzz\n",
      "Name: Question, Length: 10484, dtype: object\n"
     ]
    }
   ],
   "source": [
    "data=pd.read_csv('data.tsv',sep='\\t')\n",
    "dataQ=data.Question\n",
    "sentences=[]\n",
    "X=[]\n",
    "answer=data.Answer\n",
    "for i in range(len(dataQ)):\n",
    "    sentences.append(dataQ[i])\n",
    "for each in sentences:\n",
    "    X.append(each.split(\" \"))\n",
    "print(dataQ)"
   ]
  },
  {
   "cell_type": "code",
   "execution_count": 5,
   "metadata": {},
   "outputs": [
    {
     "data": {
      "text/html": [
       "<div>\n",
       "<style scoped>\n",
       "    .dataframe tbody tr th:only-of-type {\n",
       "        vertical-align: middle;\n",
       "    }\n",
       "\n",
       "    .dataframe tbody tr th {\n",
       "        vertical-align: top;\n",
       "    }\n",
       "\n",
       "    .dataframe thead th {\n",
       "        text-align: right;\n",
       "    }\n",
       "</style>\n",
       "<table border=\"1\" class=\"dataframe\">\n",
       "  <thead>\n",
       "    <tr style=\"text-align: right;\">\n",
       "      <th></th>\n",
       "      <th>Question</th>\n",
       "      <th>Answer</th>\n",
       "    </tr>\n",
       "  </thead>\n",
       "  <tbody>\n",
       "    <tr>\n",
       "      <th>count</th>\n",
       "      <td>10484</td>\n",
       "      <td>10483</td>\n",
       "    </tr>\n",
       "    <tr>\n",
       "      <th>unique</th>\n",
       "      <td>10386</td>\n",
       "      <td>688</td>\n",
       "    </tr>\n",
       "    <tr>\n",
       "      <th>top</th>\n",
       "      <td>Hi, How is it going?</td>\n",
       "      <td>It's nice to have things you love.</td>\n",
       "    </tr>\n",
       "    <tr>\n",
       "      <th>freq</th>\n",
       "      <td>6</td>\n",
       "      <td>299</td>\n",
       "    </tr>\n",
       "  </tbody>\n",
       "</table>\n",
       "</div>"
      ],
      "text/plain": [
       "                     Question                              Answer\n",
       "count                   10484                               10483\n",
       "unique                  10386                                 688\n",
       "top      Hi, How is it going?  It's nice to have things you love.\n",
       "freq                        6                                 299"
      ]
     },
     "execution_count": 5,
     "metadata": {},
     "output_type": "execute_result"
    }
   ],
   "source": [
    "data.describe()"
   ]
  },
  {
   "cell_type": "code",
   "execution_count": 14,
   "metadata": {},
   "outputs": [],
   "source": [
    "documents = [TaggedDocument(doc, [i]) for i, doc in enumerate(X)]\n",
    "model = Doc2Vec(documents, vector_size=200, window=2, min_count=1, workers=4)\n",
    "#documents"
   ]
  },
  {
   "cell_type": "code",
   "execution_count": 7,
   "metadata": {},
   "outputs": [],
   "source": [
    "#model.wv.similar_by_word(\"Are\",topn=10)"
   ]
  },
  {
   "cell_type": "code",
   "execution_count": 8,
   "metadata": {},
   "outputs": [],
   "source": [
    "test=documents = [TaggedDocument(doc, [i]) for i, doc in enumerate(X[100])]"
   ]
  },
  {
   "cell_type": "code",
   "execution_count": 9,
   "metadata": {},
   "outputs": [],
   "source": [
    "inferred_vector =model.infer_vector([\"How are you?\"])"
   ]
  },
  {
   "cell_type": "code",
   "execution_count": 10,
   "metadata": {},
   "outputs": [],
   "source": [
    "sims=model.dv.most_similar([inferred_vector], topn=3)"
   ]
  },
  {
   "cell_type": "code",
   "execution_count": 11,
   "metadata": {},
   "outputs": [
    {
     "name": "stdout",
     "output_type": "stream",
     "text": [
      "similar questions：  [\"You're\", 'happy']\n",
      "answer:  I'm quite happy, thank you.\n",
      "similar questions：  [\"It's\", 'a', 'pleasure', 'to', 'have', 'met']\n",
      "answer:  It's nice to meet you as well.\n",
      "similar questions：  ['How', 'was', 'your', 'week']\n",
      "answer:  Good, thanks.\n"
     ]
    }
   ],
   "source": [
    "inferred_vector =model.infer_vector([\"How are you?\"])\n",
    "sims=model.dv.most_similar([inferred_vector], topn=3)\n",
    "for docid, sim in sims:\n",
    "    #print(docid)\n",
    "    #print(sim)\"\"\"\n",
    "    print(\"similar questions： \",X[docid])\n",
    "    print(\"answer: \",answer[docid])"
   ]
  },
  {
   "cell_type": "code",
   "execution_count": 12,
   "metadata": {},
   "outputs": [
    {
     "name": "stdout",
     "output_type": "stream",
     "text": [
      "similar questions：  [\"You're\", 'boring', '']\n",
      "answer:  I aim for efficiency.\n",
      "similar questions：  [\"You're\", 'not', 'alive', 'are', 'you?', '']\n",
      "answer:  I'm digital. In other words, I'm not human.\n",
      "similar questions：  ['So', 'who', 'are', 'you?', '']\n",
      "answer:  I don't have a name.\n"
     ]
    }
   ],
   "source": [
    "for docid, sim in model.dv.most_similar([model.infer_vector([\"Are you employed?\"])], topn=3):\n",
    "    #print(docid)\n",
    "    #print(sim)\n",
    "    print(\"similar questions： \",X[docid])\n",
    "    print(\"answer: \",answer[docid])"
   ]
  },
  {
   "cell_type": "code",
   "execution_count": 13,
   "metadata": {
    "scrolled": true
   },
   "outputs": [],
   "source": [
    "#inferred_vector"
   ]
  },
  {
   "cell_type": "code",
   "execution_count": null,
   "metadata": {},
   "outputs": [],
   "source": []
  }
 ],
 "metadata": {
  "kernelspec": {
   "display_name": "Python 3",
   "language": "python",
   "name": "python3"
  },
  "language_info": {
   "codemirror_mode": {
    "name": "ipython",
    "version": 3
   },
   "file_extension": ".py",
   "mimetype": "text/x-python",
   "name": "python",
   "nbconvert_exporter": "python",
   "pygments_lexer": "ipython3",
   "version": "3.6.9"
  }
 },
 "nbformat": 4,
 "nbformat_minor": 2
}

{
 "cells": [
  {
   "cell_type": "markdown",
   "metadata": {},
   "source": [
    "pour les fichier .yml venant de  https://www.kaggle.com/kausr25/chatterbotenglish"
   ]
  },
  {
   "cell_type": "markdown",
   "metadata": {},
   "source": [
    "- sépaarer les mots avec les char de ponctuations\n",
    "- reference of re\n",
    "https://docs.python.org/3/library/re.html"
   ]
  },
  {
   "cell_type": "code",
   "execution_count": 1,
   "metadata": {},
   "outputs": [
    {
     "name": "stdout",
     "output_type": "stream",
     "text": [
      "['How are you', '?', \"   what's up\", '?', '', '!', \"   I'm fine thanks\", '.', 'fine', ',', ' goodbye', '.', '        ']\n",
      "['How are you', '?', \"what's up\", '?', '', '!', \"I'm fine thanks\", '.', 'fine', ',', 'goodbye', '.', '']\n",
      "['How are you', '?', \"what's up\", '?', '!', \"I'm fine thanks\", '.', 'fine', ',', 'goodbye', '.']\n"
     ]
    },
    {
     "data": {
      "text/plain": [
       "(\"How are you ? what's up ? ! I'm fine thanks . fine , goodbye .\", str)"
      ]
     },
     "execution_count": 1,
     "metadata": {},
     "output_type": "execute_result"
    }
   ],
   "source": [
    "import re\n",
    "\n",
    "my_string = \"How are you?   what's up?!   I'm fine thanks.fine, goodbye.        \"\n",
    "\n",
    "rule = r\"([.,?!])\"\n",
    "sp0 = re.split(rule, my_string) # split par '.' ',' '?' ou '!' en conservant ces char de ponctuations\n",
    "print(sp0)\n",
    "sp1 = [data.strip() for data in sp0] #supprimer les espace au debut et a la fin du string\n",
    "print(sp1)\n",
    "sp2 = [data for data in sp1 if (data != '') ] # supprimer les elements vide ''\n",
    "print(sp2)\n",
    "sp3 = ' '.join(sp2) # si besoin rejoint les phrases en ajoutant un espace entre les str et les char de ponctuations\n",
    "sp3, type(sp3)"
   ]
  },
  {
   "cell_type": "code",
   "execution_count": 2,
   "metadata": {},
   "outputs": [],
   "source": [
    "def sep_ponct(my_str, rule = r\"([.,?!])\"):\n",
    "    sp0 = re.split(rule, my_str)\n",
    "    sp1 = [data.strip() for data in sp0]\n",
    "    res = [data for data in sp1 if (data != '') ]\n",
    "    return res"
   ]
  },
  {
   "cell_type": "code",
   "execution_count": 3,
   "metadata": {},
   "outputs": [
    {
     "name": "stdout",
     "output_type": "stream",
     "text": [
      "['How are you', '?', \"what's up\", '?', '!', \"I'm fine thanks\", '.', 'fine', ',', 'goodbye', '.']\n"
     ]
    }
   ],
   "source": [
    "print(sep_ponct(my_string))"
   ]
  },
  {
   "cell_type": "markdown",
   "metadata": {},
   "source": [
    "- txt to tsv en séparant les mots avec les char de ponctuation"
   ]
  },
  {
   "cell_type": "markdown",
   "metadata": {},
   "source": [
    "join = True\n",
    "tsv_list = []\n",
    "with open('test.tsv','w+',encoding=\"utf8\")as t:\n",
    "    with open(\"ai.txt\",'r',encoding='utf8')as f:\n",
    "        # print(f.readlines())\n",
    "        for line in f.readlines():\n",
    "            line_list = line.strip('\\n') # supprimer le \\n\n",
    "            #print( type(line_list))\n",
    "            line = line_list[3:] #car la phrase commence a idx == 3\n",
    "            #print('\\n', line)\n",
    "            if(join):\n",
    "                tsv_list = [line]\n",
    "                join = not join\n",
    "            else:\n",
    "                tsv_list.append(line)\n",
    "                tsv_list = '\\t'.join(tsv_list)\n",
    "                t.write(tsv_list+'\\n')\n",
    "                join = not join\n",
    "    with open (\"ai.txt\",'r',encoding='utf8')as f:\n",
    "        for line in f.readlines():\n",
    "            line = ' '.join(sep_ponct(line)) \n",
    "            t.write(line + '\\n')"
   ]
  },
  {
   "cell_type": "code",
   "execution_count": 4,
   "metadata": {},
   "outputs": [],
   "source": [
    "def txtTocsv(tsv, txt, begin = 3):\n",
    "    courant = \"\"\n",
    "    is_question = True\n",
    "    with open(tsv,'w+',encoding=\"utf8\")as t:\n",
    "        with open(txt,'r',encoding='utf8')as f:\n",
    "            for line in f.readlines():\n",
    "                line_list = line.strip('\\n') # supprimer le \\n\n",
    "                #print(type(line), \"== <class 'str'>\")\n",
    "                \n",
    "                line = line_list[begin:] #car la phrase commence a idx == 3\n",
    "                line = ' '.join(sep_ponct(line)) # separer les mots avec ,.!?\n",
    "                \n",
    "                status = line_list[:begin]\n",
    "\n",
    "                if (status == \"- -\"): #si c'est une question dans le file yml qu'on a\n",
    "                    is_question = True\n",
    "                    courant = line     \n",
    "                if (status == \"  -\"):\n",
    "                    is_question = False\n",
    "                if(is_question and status == \"   \"):\n",
    "                    courant += ' ' + line  \n",
    "                \n",
    "                if(not is_question): #donc is answer\n",
    "                    t.write(' ' + line) if (status == \"   \") else t.write('\\n' + courant + '\\t' + line )\n",
    "                    "
   ]
  },
  {
   "cell_type": "code",
   "execution_count": 5,
   "metadata": {},
   "outputs": [],
   "source": [
    "#txtTocsv('testfct.tsv', 'ai.txt', begin = 3)"
   ]
  },
  {
   "cell_type": "code",
   "execution_count": 6,
   "metadata": {},
   "outputs": [],
   "source": [
    "txtTocsv('ymlData.tsv', 'ymlData.txt', begin = 3)"
   ]
  },
  {
   "cell_type": "markdown",
   "metadata": {},
   "source": [
    "supprimer la premier ligne qui est vide puis\n",
    "- combiner deux datasets avec <b> 'cat ymlData.tsv data2fusion.tsv | sort | uniq > data2shuf.tsv' </b> (ou 'sort file | uniq > data.tsv' ) dans le terminal, Puis ajouter label des colonnes\n",
    "- shuffle by <b> shuf data2shuf.tsv -o  data.tsv </b>\n",
    "- ajouter les label 'question' 'answer' manuellement"
   ]
  }
 ],
 "metadata": {
  "kernelspec": {
   "display_name": "Python 3",
   "language": "python",
   "name": "python3"
  },
  "language_info": {
   "codemirror_mode": {
    "name": "ipython",
    "version": 3
   },
   "file_extension": ".py",
   "mimetype": "text/x-python",
   "name": "python",
   "nbconvert_exporter": "python",
   "pygments_lexer": "ipython3",
   "version": "3.6.9"
  }
 },
 "nbformat": 4,
 "nbformat_minor": 2
}

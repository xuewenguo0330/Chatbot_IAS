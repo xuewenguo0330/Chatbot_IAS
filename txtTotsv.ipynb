{
 "cells": [
  {
   "cell_type": "markdown",
   "metadata": {},
   "source": [
    "pour les fichier .yml venant de  https://www.kaggle.com/kausr25/chatterbotenglish"
   ]
  },
  {
   "cell_type": "code",
   "execution_count": 28,
   "metadata": {},
   "outputs": [],
   "source": [
    "join = True\n",
    "tsv_list = []\n",
    "with open('data.tsv','w+',encoding=\"utf8\")as t:\n",
    "    with open(\"ai.txt\",'r',encoding='utf8')as f:\n",
    "        # print(f.readlines())\n",
    "        for line in f.readlines():\n",
    "            line_list = line.strip('\\n') # supprimer le \\n\n",
    "            #print( type(line_list))\n",
    "            line = line_list[3:] #car la phrase commence a idx == 3\n",
    "            #print('\\n', line)\n",
    "            if(join):\n",
    "                tsv_list = [line]\n",
    "                join = not join\n",
    "            else:\n",
    "                tsv_list.append(line)\n",
    "                tsv_list = '\\t'.join(tsv_list)\n",
    "                t.write(tsv_list+'\\n')\n",
    "                join = not join\n"
   ]
  },
  {
   "cell_type": "code",
   "execution_count": 33,
   "metadata": {},
   "outputs": [],
   "source": [
    "def txtTocsv(tsv, txt, begin = 3):\n",
    "    join = True\n",
    "    tsv_list = []\n",
    "    with open(tsv,'w+',encoding=\"utf8\")as t:\n",
    "        with open(txt,'r',encoding='utf8')as f:\n",
    "            # print(f.readlines())\n",
    "            for line in f.readlines():\n",
    "                line_list = line.strip('\\n') # supprimer le \\n\n",
    "                #print( type(line_list))\n",
    "                line = line_list[begin:] #car la phrase commence a idx == 3\n",
    "                #print('\\n', line)\n",
    "                if(join):\n",
    "                    tsv_list = [line]\n",
    "                    join = not join\n",
    "                else:\n",
    "                    tsv_list.append(line)\n",
    "                    tsv_list = '\\t'.join(tsv_list)\n",
    "                    t.write(tsv_list+'\\n')\n",
    "                    join = not join"
   ]
  },
  {
   "cell_type": "code",
   "execution_count": 34,
   "metadata": {},
   "outputs": [],
   "source": [
    "txtTocsv('testfct', 'ai.txt', begin = 3)"
   ]
  },
  {
   "cell_type": "code",
   "execution_count": null,
   "metadata": {},
   "outputs": [],
   "source": []
  }
 ],
 "metadata": {
  "kernelspec": {
   "display_name": "Python 3",
   "language": "python",
   "name": "python3"
  },
  "language_info": {
   "codemirror_mode": {
    "name": "ipython",
    "version": 3
   },
   "file_extension": ".py",
   "mimetype": "text/x-python",
   "name": "python",
   "nbconvert_exporter": "python",
   "pygments_lexer": "ipython3",
   "version": "3.6.9"
  }
 },
 "nbformat": 4,
 "nbformat_minor": 2
}

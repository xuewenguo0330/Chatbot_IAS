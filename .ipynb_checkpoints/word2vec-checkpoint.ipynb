{
 "cells": [
  {
   "cell_type": "code",
   "execution_count": 1,
   "metadata": {},
   "outputs": [],
   "source": [
    "import os, re\n",
    "import numpy as np\n",
    "import matplotlib.pyplot as plt\n",
    "from sklearn.decomposition import PCA\n",
    "from collections import Counter\n",
    "import pandas as pd\n",
    "from mpl_toolkits import mplot3d"
   ]
  },
  {
   "cell_type": "code",
   "execution_count": 2,
   "metadata": {},
   "outputs": [],
   "source": [
    "def sep_ponct(my_str, rule = r\"([.,?!])\"):\n",
    "    \"\"\"separer les mots avec les char de ponctuation\"\"\"\n",
    "    #print(my_str)\n",
    "    sp0 = re.split(rule, my_str)\n",
    "    sp1 = [data.strip() for data in sp0]\n",
    "    res = [data for data in sp1 if (data != '') ]\n",
    "    return res"
   ]
  },
  {
   "cell_type": "code",
   "execution_count": 3,
   "metadata": {},
   "outputs": [
    {
     "ename": "SyntaxError",
     "evalue": "invalid syntax (<ipython-input-3-d7b3fc90904d>, line 7)",
     "output_type": "error",
     "traceback": [
      "\u001b[0;36m  File \u001b[0;32m\"<ipython-input-3-d7b3fc90904d>\"\u001b[0;36m, line \u001b[0;32m7\u001b[0m\n\u001b[0;31m    Q.append(dataQ[i]) if dataQ[i]\u001b[0m\n\u001b[0m                                  ^\u001b[0m\n\u001b[0;31mSyntaxError\u001b[0m\u001b[0;31m:\u001b[0m invalid syntax\n"
     ]
    }
   ],
   "source": [
    "data=pd.read_csv('data.tsv',sep='\\t')\n",
    "dataQ=data.Question\n",
    "Q=[]\n",
    "Q2W=[]# liste de mots pour chaque phrase \n",
    "for i in range(len(dataQ)):\n",
    "    Q.append(dataQ[i])\n",
    "    \n",
    "for each in Q: #type(each) == str\n",
    "    #print(type(each),each)\n",
    "    each_list = sep_ponct(each)\n",
    "    remisEsp = ' '.join(each_list)\n",
    "    #print(remisEsp.split(\" \"),'\\n')\n",
    "    Q2W.append(remisEsp.split(\" \"))\n",
    "#print(Q2W)"
   ]
  },
  {
   "cell_type": "code",
   "execution_count": null,
   "metadata": {},
   "outputs": [],
   "source": [
    "data.describe()"
   ]
  },
  {
   "cell_type": "code",
   "execution_count": null,
   "metadata": {},
   "outputs": [],
   "source": [
    "import gensim, logging"
   ]
  },
  {
   "cell_type": "code",
   "execution_count": null,
   "metadata": {},
   "outputs": [],
   "source": [
    "window_size=2\n",
    "N=len(Q2W)\n",
    "vector_size=3\n",
    "model=gensim.models.Word2Vec(Q2W,vector_size=vector_size, window=2, min_count=1, workers=4)"
   ]
  },
  {
   "cell_type": "code",
   "execution_count": null,
   "metadata": {},
   "outputs": [],
   "source": [
    "V=[]\n",
    "for i in range (N):\n",
    "    s=np.zeros(vector_size)\n",
    "    for j in range(len(Q2W[i])):\n",
    "        wv=np.array(model.wv.get_vector(Q2W[i][j]))\n",
    "        s+=wv\n",
    "    V.append(list(s))\n",
    "print(V[1])"
   ]
  },
  {
   "cell_type": "code",
   "execution_count": null,
   "metadata": {},
   "outputs": [],
   "source": [
    "from mpl_toolkits import mplot3d\n",
    "import numpy as np\n",
    "import matplotlib.pyplot as plt\n",
    "fig = plt.figure(figsize = (10, 7))\n",
    "ax = plt.axes(projection =\"3d\")\n",
    "for i in range(100):\n",
    "    #ax.scatter3D(V[i][0],V[i][1],V[i][2],label=Q2W[i])\n",
    "    ax.scatter3D(V[i][0],V[i][1],V[i][2])\n",
    "\n",
    "#plt.legend()"
   ]
  },
  {
   "cell_type": "code",
   "execution_count": null,
   "metadata": {},
   "outputs": [],
   "source": []
  }
 ],
 "metadata": {
  "kernelspec": {
   "display_name": "Python 3",
   "language": "python",
   "name": "python3"
  },
  "language_info": {
   "codemirror_mode": {
    "name": "ipython",
    "version": 3
   },
   "file_extension": ".py",
   "mimetype": "text/x-python",
   "name": "python",
   "nbconvert_exporter": "python",
   "pygments_lexer": "ipython3",
   "version": "3.6.9"
  }
 },
 "nbformat": 4,
 "nbformat_minor": 2
}
